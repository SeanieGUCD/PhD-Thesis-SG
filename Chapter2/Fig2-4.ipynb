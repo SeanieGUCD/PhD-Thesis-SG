{
 "cells": [
  {
   "cell_type": "code",
   "execution_count": 1,
   "metadata": {},
   "outputs": [],
   "source": [
    "import pandas as pd\n",
    "import numpy as np\n",
    "import xarray\n",
    "import matplotlib.pyplot as plt"
   ]
  },
  {
   "cell_type": "code",
   "execution_count": 16,
   "metadata": {},
   "outputs": [],
   "source": [
    "#Directory path for plot output\n",
    "plot_output_DIR = ''\n",
    "\n",
    "#Data directory paths\n",
    "reanalysis_DIR = ''\n",
    "obs_DIR = ''"
   ]
  },
  {
   "cell_type": "code",
   "execution_count": 14,
   "metadata": {},
   "outputs": [],
   "source": [
    "def roseWheelCP(dataSPD, dataDIR, num=16):\n",
    "    beaufortlevs1 = np.array([0.0, 5.5, 8., 99.])\n",
    "    Ncond = (dataDIR >= 348.75) | (dataDIR < 11.25)\n",
    "    wp = np.pi / 24\n",
    "\n",
    "    # Exclude calm conditions\n",
    "    dataDIR = dataDIR[dataSPD > 1.5]\n",
    "    dataSPD = dataSPD[dataSPD > 1.5]\n",
    "\n",
    "    # Start with northerlies, crossing direction origin\n",
    "    sN = dataSPD[Ncond]\n",
    "    xN = dataDIR[Ncond]\n",
    "\n",
    "    percSPD = np.zeros([16, 3])\n",
    "    angs = np.array([np.radians(360) - wp])\n",
    "    for k in range(3):\n",
    "        speedcond = (sN > beaufortlevs1[k]) & (sN <= beaufortlevs1[k + 1])\n",
    "        percSPD[0, k] = (100.0 * xN[speedcond].size) / dataDIR.size\n",
    "        \n",
    "    # Now the 15 other direction bins\n",
    "    for j in range(15):\n",
    "        dcond = (dataDIR >= ((j + 1) * 22.5) - 11.25) & (dataDIR < ((j + 1) * 22.5) + 11.25)\n",
    "        xD = dataDIR[dcond]\n",
    "        sD = dataSPD[dcond]\n",
    "        angs = np.append(angs, np.radians((j + 1) * 22.5) - wp)\n",
    "        for k in range(3):\n",
    "            speedcond = (sD > beaufortlevs1[k]) & (sD <= beaufortlevs1[k + 1])\n",
    "            percSPD[j + 1, k] = (100.0 * xD[speedcond].size) / dataDIR.size\n",
    "    return percSPD, angs\n",
    "\n",
    "def roseplotCP(dataSPD, dataDIR, width,loc,dataset='',title='',limit=14,pthplots='',num=16):\n",
    "    \n",
    "    percs,angs = roseWheelCP(dataSPD,dataDIR,num=num)\n",
    "    fig = plt.figure(figsize=(5,5))\n",
    "    ax1 = plt.subplot(111, projection='polar')\n",
    "    ax1.set_theta_zero_location('N')\n",
    "    ax1.set_theta_direction(-1)\n",
    "    ax1.set_rlim(0,limit)\n",
    "    plt.title('%s'%(title),fontsize=15.,fontweight='bold')\n",
    "    btm=0\n",
    "    labs = ['1.5 - 5.5 m/s','5.5 - 8.0 m/s','8 m/s +']\n",
    "    c = ['g','gold','r']\n",
    "    for i1 in range(3):\n",
    "        bars1 = ax1.bar(angs+(np.pi/24.), percs[:,i1], width=width, color=c[i1], bottom=btm,label=labs[i1],edgecolor='k')\n",
    "        btm = np.sum(percs[:,:i1+1],axis=1)\n",
    "    ax1.grid(linestyle='dotted')\n",
    "    lgd1 = ax1.legend(bbox_to_anchor=(1.05, 1), loc=2, borderaxespad=0.,fontsize=12) #IF you want to include the legend\n",
    "    plt.tight_layout()\n",
    "    fig.savefig(plot_output_DIR+loc+'_Rose_'+dataset,bbox_extra_artists=(lgd1,), bbox_inches='tight',dpi=200)\n",
    "    plt.close(fig)"
   ]
  },
  {
   "cell_type": "code",
   "execution_count": 18,
   "metadata": {},
   "outputs": [
    {
     "name": "stdout",
     "output_type": "stream",
     "text": [
      "Belmullet\n",
      "Birr\n",
      "Clones\n",
      "Dublin_Airport\n",
      "Kilkenny\n",
      "Malin_head\n",
      "Valentia_Observatory\n"
     ]
    }
   ],
   "source": [
    "stn_list=['Belmullet','Birr','Cork_Airport','Claremorris','Clones','Dublin_Airport','Kilkenny','Malin_Head','Mullingar','Rosslare','Shannon_Airport','Valentia_Observatory']\n",
    "\n",
    "\n",
    "for STN in stn_list:\n",
    "    print(STN)\n",
    "    \n",
    "    #Read in reanalysis and obs data\n",
    "    m2di = xarray.open_dataset(reanalysis_DIR+STN+'_Merra2Wdir_8207.nc').sel(lat=red_loc.loc[STN].Latitude,lon=red_loc.loc[STN].Longitude,method='nearest').wdir.to_dataframe()['wdir'].rename('MR2 wdir')\n",
    "    m2ds  = xarray.open_dataset(reanalysis_DIR+STN+'_Merra2Wspd_8207.nc').sel(lat=red_loc.loc[STN].Latitude,lon=red_loc.loc[STN].Longitude,method='nearest').wspd.to_dataframe()['wspd'].rename('MR2 wspd')\n",
    "    \n",
    "    edi = xarray.open_dataset(reanalysis_DIR+STN+'_eraWdir_8207.nc').sel(latitude=red_loc.loc[STN].Latitude,longitude=red_loc.loc[STN].Longitude,method='nearest').wdir.to_dataframe()['wdir'].rename('ERA wdir')\n",
    "    eds = xarray.open_dataset(reanalysis_DIR+STN+'_eraWspd_8207.nc').sel(latitude=red_loc.loc[STN].Latitude,longitude=red_loc.loc[STN].Longitude,method='nearest').wspd.to_dataframe()['wspd'].rename('ERA wspd')\n",
    "\n",
    "    mdi = pd.read_csv(reanalysis_DIR+'meraWDIR_'+STN+'.csv',index_col=0,parse_dates=True,names=['wdir'])\n",
    "    mds = pd.read_csv(reanalysis_DIR+'meraWSPD_'+STN+'.csv',index_col=0,parse_dates=True,names=['wspd'])\n",
    "    \n",
    "    odi = pd.read_csv(obs_DIR+STN+'_WDIR_obs.csv',index_col=0,parse_dates=True)\n",
    "    ods = pd.read_csv(obs_DIR+STN+'_WDSP_obs.csv',index_col=0,parse_dates=True,names=['wspd'])\n",
    "\n",
    "\n",
    "    #Run roseplot functions to produce wind roses\n",
    "    roseplotCP(m2ds,m2di,np.pi/12,dataset='MERRA2',title=STN.replace('_',' ')+': MERRA2\\n',limit=18,loc=STN)\n",
    "    roseplotCP(eds,edi,np.pi/12,dataset='ERA',title=STN.replace('_',' ')+': ERA\\n',limit=18,loc=STN)\n",
    "    roseplotCP(ods['wspd'],odi['Obs wdir'],np.pi/12,dataset='Obs',title=STN.replace('_',' ')+': Obs\\n',limit=18,loc=STN)\n",
    "    roseplotCP(mds['wspd'],mdi['wdir'],np.pi/12,dataset='MERA',title=STN.replace('_',' ')+': MERA\\n',limit=18,loc=STN)"
   ]
  }
 ],
 "metadata": {
  "kernelspec": {
   "display_name": "Python 3",
   "language": "python",
   "name": "python3"
  },
  "language_info": {
   "codemirror_mode": {
    "name": "ipython",
    "version": 3
   },
   "file_extension": ".py",
   "mimetype": "text/x-python",
   "name": "python",
   "nbconvert_exporter": "python",
   "pygments_lexer": "ipython3",
   "version": "3.7.3"
  }
 },
 "nbformat": 4,
 "nbformat_minor": 2
}
