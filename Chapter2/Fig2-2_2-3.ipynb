{
 "cells": [
  {
   "cell_type": "code",
   "execution_count": 1,
   "metadata": {},
   "outputs": [],
   "source": [
    "import pandas as pd\n",
    "import numpy as np\n",
    "import xarray\n",
    "import matplotlib.pyplot as plt"
   ]
  },
  {
   "cell_type": "code",
   "execution_count": 2,
   "metadata": {},
   "outputs": [],
   "source": [
    "def rmse(inp):\n",
    "    return np.sqrt((inp**2).mean())\n",
    "\n",
    "\n",
    "def ACC(FC,OBS,CL):\n",
    "    'Correlation coefficient between forecast and observed anomalies from climate'\n",
    "    top = np.mean((FC-CL)*(OBS-CL))\n",
    "    bottom  = np.sqrt(np.mean((FC-CL)**2)*np.mean((OBS-CL)**2))\n",
    "    ACC = top/bottom\n",
    "    return ACC\n",
    "\n",
    "def Climatology(data):\n",
    "    dt= 15 ##window\n",
    "    dy = 366 # number of days in a year\n",
    "    climatology = data.copy()\n",
    "    for i in np.arange(1,367):\n",
    "            if i<(dt+1):\n",
    "                i1 = dy+i-dt\n",
    "                i2 = i+dt\n",
    "                CLIMATE = data[(data.index.dayofyear>=i1)|(data.index.dayofyear<=i2)]\n",
    "            elif i>(dy-dt):\n",
    "                i1 = i-dt\n",
    "                i2 = i+dt-dy\n",
    "                CLIMATE = data[(data.index.dayofyear>=i1)|(data.index.dayofyear<=i2)]\n",
    "            else:\n",
    "                i1 = i-dt\n",
    "                i2 = i+dt\n",
    "                CLIMATE = data[(data.index.dayofyear>=i1)&(data.index.dayofyear<=i2)]\n",
    "            climatology.values[climatology.index.dayofyear==i] = np.nanmean(CLIMATE.values)            \n",
    "    return climatology\n",
    "\n",
    "\n",
    "\n",
    "def PlotBarsDots_stations(me_I,me_E,me_M,rmse_I, rmse_E, rmse_M, UNITS='',method='NN', leg_YN = False, fileNAME='Overall.pdf'):\n",
    "    st_label = (['BT','BR','CA','CM','CS','DA','KK','MH','MR','RL','SA','VO'])\n",
    "    Fsize=12\n",
    "    plt.figure(figsize=(5,4))\n",
    "    ind=np.arange(12)\n",
    "    width=0.25\n",
    "    i_col = 'r'\n",
    "    e_col= 'g'\n",
    "    m_col = 'b'\n",
    "    Msize=6\n",
    "\n",
    "    plt.bar(ind,me_I,width,color=i_col,edgecolor = 'k', label='ME MÉRA')\n",
    "    plt.bar(ind+width,me_E,width,color=e_col,edgecolor='k', label='ME ERA-Interim')\n",
    "    plt.bar(ind+(width*2),me_M,width,color=m_col,edgecolor ='k' ,label='ME MERRA2')\n",
    "    plt.plot(ind,rmse_I, 'o',markersize=Msize, color=i_col, mec='k', label='RMSE MÉRA')\n",
    "    plt.plot(ind+width,rmse_E,'o',markersize=Msize,color=e_col,mec='k', label='RMSE ERA-Interim')\n",
    "    plt.plot(ind+(width*2),rmse_M,'o',markersize=Msize,color=m_col, mec='k', label='RMSE MERRA2')\n",
    "    \n",
    "    plt.xticks(np.arange(0,12)+0.25,st_label,rotation=0, fontsize=Fsize)\n",
    "    plt.yticks(np.arange(-2,5,1))\n",
    "    plt.ylabel('%s'%(UNITS), fontsize=Fsize)\n",
    "    plt.tick_params(axis='y',direction='out',left=True,labelsize=Fsize)\n",
    "    plt.tick_params(axis='y',direction='in',right=True)\n",
    "    if leg_YN==True:\n",
    "        plt.legend(loc=2,ncol=2,fontsize=8)\n",
    "    plt.grid(axis='y',linestyle='dotted',color='k')\n",
    "    if method=='NN':\n",
    "        plt.title('Overall: Nearest Grid Point',fontsize=12)\n",
    "    else:\n",
    "        plt.title('Overall: Bilinear Interpolation',fontsize=12)\n",
    "    plt.xlim([-0.3,11.8])\n",
    "    plt.ylim(-2.05,4.85)\n",
    "    plt.savefig('%s'%(fileNAME),bbox_inches='tight',dpi=300)\n",
    "\n",
    "    \n",
    "def PlotMonthlyBarsDots(Values_ME,Values_RMSE, unit,ymin,ymax, method,fileNAME='Monthly'):\n",
    "    width=0.3\n",
    "    plt.clf()\n",
    "    ind = np.arange(12)\n",
    "    plt.figure(figsize=(5,3))\n",
    "    Fsize=12\n",
    "    hat = '//'\n",
    "    o_col = 'w'\n",
    "    i_col = 'r'\n",
    "    e_col= 'g'\n",
    "    m_col = 'b'\n",
    "    Msize=6\n",
    "    \n",
    "    \n",
    "    plt.bar( ind, Values_ME['MERA'], width, color=i_col, edgecolor='k',label='ME - MÉRA')\n",
    "    plt.bar( ind+(width), Values_ME['ERI'], width, color=e_col,edgecolor='k', label='ME - ERA-Interim')\n",
    "    plt.bar( ind+(width*2), Values_ME['MR2'], width, color=m_col,edgecolor='k', label='ME - MERRA-2')\n",
    "    plt.plot(ind,Values_RMSE['MERA'], 'o',markersize=Msize,color=i_col,mec='k',label='RMSE - MÉRA')\n",
    "    plt.plot(ind+(width),Values_RMSE['ERI'], 'o',markersize=Msize,color=e_col, mec='k', label='RMSE - ERA-Interim')\n",
    "    plt.plot(ind+(width*2),Values_RMSE['MR2'], 'o',markersize=Msize,color=m_col,mec= 'k',  label='RMSE - MERRA-2')\n",
    "    plt.xticks(np.arange(0.25,13,1),['Jan','Feb','Mar','Apr','May','Jun','Jul','Aug','Sep','Oct','Nov','Dec'], rotation=90, fontsize=Fsize)\n",
    "    plt.tick_params(axis='y',labelsize=Fsize)\n",
    "    plt.tick_params(axis='x',labelsize=Fsize)\n",
    "    plt.grid(axis='y',linestyle='dotted')\n",
    "    if method=='NN':\n",
    "        plt.title('Monthly: Nearest Grid Point')\n",
    "    else:\n",
    "        plt.title('Monthly: Bilinear Interpolation')\n",
    "    plt.xlim([-0.5,12])\n",
    "    plt.ylabel('%s'%unit,fontsize=Fsize)\n",
    "    plt.ylim([ymin,ymax])\n",
    "    plt.savefig('%s.pdf'%(fileNAME),bbox_inches='tight',dpi=300)\n",
    "\n"
   ]
  },
  {
   "cell_type": "code",
   "execution_count": 3,
   "metadata": {
    "scrolled": false
   },
   "outputs": [
    {
     "name": "stdout",
     "output_type": "stream",
     "text": [
      "Belmullet\n",
      "                   ME      RMSE       std\n",
      "MERA wspd   -0.565493  1.083305  0.924045\n",
      "ERA-I wspd   0.651576  1.339393  1.170285\n",
      "MERRA2 wspd  0.788483  1.390688  1.145621\n",
      "Birr\n",
      "                   ME      RMSE       std\n",
      "MERA wspd    1.536800  1.756891  0.851462\n",
      "ERA-I wspd   1.428435  1.662926  0.851453\n",
      "MERRA2 wspd  1.989544  2.198826  0.936292\n",
      "Cork_Airport\n",
      "                   ME      RMSE       std\n",
      "MERA wspd   -0.019384  0.900040  0.899879\n",
      "ERA-I wspd   2.233943  2.784862  1.662903\n",
      "MERRA2 wspd  0.138534  1.021468  1.012083\n",
      "Claremorris\n",
      "                   ME      RMSE       std\n",
      "MERA wspd    0.740593  1.136733  0.862417\n",
      "ERA-I wspd   1.531362  1.851685  1.041049\n",
      "MERRA2 wspd  0.967380  1.301309  0.870437\n",
      "Clones\n",
      "                   ME      RMSE       std\n",
      "MERA wspd    0.856474  1.169051  0.795739\n",
      "ERA-I wspd   0.964344  1.273833  0.832324\n",
      "MERRA2 wspd  1.387805  1.638961  0.871935\n",
      "Dublin_Airport\n",
      "                   ME      RMSE       std\n",
      "MERA wspd   -0.422236  0.781963  0.658201\n",
      "ERA-I wspd   2.186530  2.669066  1.530767\n",
      "MERRA2 wspd  0.945356  1.391706  1.021400\n",
      "Kilkenny\n",
      "                   ME      RMSE       std\n",
      "MERA wspd    0.708805  0.927695  0.598542\n",
      "ERA-I wspd   1.374033  1.561914  0.742744\n",
      "MERRA2 wspd  1.701327  1.865545  0.765381\n",
      "Malin_Head\n",
      "                   ME      RMSE       std\n",
      "MERA wspd   -1.823437  2.148549  1.136432\n",
      "ERA-I wspd  -0.149313  1.232693  1.223682\n",
      "MERRA2 wspd -0.024612  1.181774  1.181581\n",
      "Mullingar\n",
      "                   ME      RMSE       std\n",
      "MERA wspd    1.137886  1.359839  0.744605\n",
      "ERA-I wspd   0.939239  1.206229  0.756887\n",
      "MERRA2 wspd  1.468732  1.687513  0.831024\n",
      "Rosslare\n",
      "                   ME      RMSE       std\n",
      "MERA wspd    1.246285  1.698239  1.153671\n",
      "ERA-I wspd   1.795324  2.545743  1.805000\n",
      "MERRA2 wspd  0.793656  1.764972  1.576562\n",
      "Shannon_Airport\n",
      "                   ME      RMSE       std\n",
      "MERA wspd    0.943393  1.248453  0.817749\n",
      "ERA-I wspd   0.740756  1.129091  0.852177\n",
      "MERRA2 wspd  0.701123  1.039515  0.767516\n",
      "Valentia_Observatory\n",
      "                   ME      RMSE       std\n",
      "MERA wspd    0.043204  0.937876  0.936930\n",
      "ERA-I wspd   3.703818  4.022773  1.569934\n",
      "MERRA2 wspd  1.690539  1.967778  1.007142\n"
     ]
    }
   ],
   "source": [
    "stn_list=['Belmullet','Birr','Cork_Airport','Claremorris','Clones','Dublin_Airport','Kilkenny','Malin_Head','Mullingar','Rosslare','Shannon_Airport','Valentia_Observatory']\n",
    "\n",
    "\n",
    "OBS_DIR=''\n",
    "\n",
    "METHOD = 'NN' #NN or BI\n",
    "\n",
    "#Location for reanalysis data, either NN or BI data\n",
    "REANALYSIS_DIR=''\n",
    "\n",
    "\n",
    "combo_error = pd.DataFrame()\n",
    "\n",
    "#Dataframe to store skill scores at each station: ME, RMSE, r and ACC\n",
    "ME_df = pd.DataFrame(index = stn_list,columns=['MERA wspd','ERA-I wspd','MERRA2 wspd'])\n",
    "RMSE_df = pd.DataFrame(index = stn_list,columns=['MERA wspd','ERA-I wspd','MERRA2 wspd'])\n",
    "ACC_df = pd.DataFrame(index = stn_list,columns=['MERA wspd','ERA-I wspd','MERRA2 wspd'])\n",
    "r_df = pd.DataFrame(index = stn_list,columns=['MERA wspd','ERA-I wspd','MERRA2 wspd'])\n",
    "\n",
    "\n",
    "for STN in stn_list:\n",
    "    #Read in reanalysis data, organise and concatenate into pandas dataframe\n",
    "    x_mera = xarray.open_dataset(REANALYSIS_DIR+STN+'_MERA.nc').isel(height=0,lat=0,lon=0)\n",
    "    x_era = xarray.open_dataset(REANALYSIS_DIR+STN+'_ERA.nc').isel(lat=0,lon=0)\n",
    "    x_mr2 = xarray.open_dataset(REANALYSIS_DIR+STN+'_MERRA2.nc').isel(lat=0,lon=0)\n",
    "\n",
    "    ser_EI = x_era.to_dataframe()['wspd'].rename('ERA-I wspd').to_frame()\n",
    "    ser_MERA = x_mera.to_dataframe()['wspd'].rename('MERA wspd').to_frame().resample('D').mean()\n",
    "    ser_MR2 = x_mr2.to_dataframe()['wspd'].rename('MERRA2 wspd').to_frame()\n",
    "    \n",
    "    reanalysis_DF = pd.concat([ser_MERA,ser_EI,ser_MR2],axis=1)['19820101':'20071231']\n",
    "    \n",
    "    #Read in Obs data\n",
    "    obs = pd.read_csv(OBS_DIR+STN+'_Obs.csv',index_col=0,parse_dates=True)[:'20071231']\n",
    "    dnan = obs.isnull().resample('D').sum()['obs wspd']\n",
    "    obs = obs.resample('D').mean()*0.51444\n",
    "    #Filter out days with more than 3 missing obs values\n",
    "    obs = obs[dnan<3].reindex(reanalysis_DF.index)\n",
    "\n",
    "    \n",
    "    # Calculate errors (model - obs). Append errors for this station to overall errors\n",
    "    error_DF = (reanalysis_DF - obs.values)\n",
    "    combo_error = pd.concat([combo_error,error_DF],axis=0)\n",
    "\n",
    "    print(STN)\n",
    "    print(pd.concat([error_DF.mean().rename('ME'),error_DF.apply(rmse).rename('RMSE'),error_DF.std().rename('std')],axis=1))\n",
    "    \n",
    "\n",
    "    # Calculate ME, RMSE, r and ACC for station 'STN', to store for comparison of different stations\n",
    "    ME_df.loc[STN] = error_DF.mean()\n",
    "    RMSE_df.loc[STN] = error_DF.apply(rmse)\n",
    "    r_df.loc[STN] = pd.concat([obs,reanalysis_DF],axis=1).corr(method='pearson').iloc[0,1:]\n",
    "\n",
    "    for col in reanalysis_DF.columns:\n",
    "        ACC_df.loc[STN,col] = ACC(reanalysis_DF[col],obs['obs wspd'],Climatology(obs)['obs wspd'])\n",
    "    "
   ]
  },
  {
   "cell_type": "code",
   "execution_count": 4,
   "metadata": {},
   "outputs": [
    {
     "data": {
      "image/png": "[encoded data removed]",
      "text/plain": [
       "<Figure size 360x288 with 1 Axes>"
      ]
     },
     "metadata": {
      "needs_background": "light"
     },
     "output_type": "display_data"
    }
   ],
   "source": [
    "PlotBarsDots_stations(ME_df['MERA wspd'], ME_df['ERA-I wspd'], ME_df['MERRA2 wspd'], RMSE_df['MERA wspd'], RMSE_df['ERA-I wspd'], RMSE_df['MERRA2 wspd'],'m/s',method=METHOD,fileNAME='COMBO_'+METHOD+'_wind.pdf')"
   ]
  },
  {
   "cell_type": "code",
   "execution_count": 5,
   "metadata": {},
   "outputs": [
    {
     "data": {
      "text/plain": [
       "<Figure size 432x288 with 0 Axes>"
      ]
     },
     "metadata": {},
     "output_type": "display_data"
    },
    {
     "data": {
      "image/png": "[encoded data removed]",
      "text/plain": [
       "<Figure size 360x216 with 1 Axes>"
      ]
     },
     "metadata": {
      "needs_background": "light"
     },
     "output_type": "display_data"
    }
   ],
   "source": [
    "PlotMonthlyBarsDots(combo_error.rename(columns={'MERA wspd':'MERA','ERA-I wspd':'ERI','MERRA2 wspd':'MR2'}).groupby(combo_error.index.month).mean(),combo_error.rename(columns={'MERA wspd':'MERA','ERA-I wspd':'ERI','MERRA2 wspd':'MR2'}).groupby(combo_error.index.month).apply(rmse),'m/s',0,2.75,method=METHOD,fileNAME='monthly_'+METHOD)"
   ]
  }
 ],
 "metadata": {
  "kernelspec": {
   "display_name": "Python 3",
   "language": "python",
   "name": "python3"
  },
  "language_info": {
   "codemirror_mode": {
    "name": "ipython",
    "version": 3
   },
   "file_extension": ".py",
   "mimetype": "text/x-python",
   "name": "python",
   "nbconvert_exporter": "python",
   "pygments_lexer": "ipython3",
   "version": "3.7.3"
  }
 },
 "nbformat": 4,
 "nbformat_minor": 2
}
